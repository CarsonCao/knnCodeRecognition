{
 "cells": [
  {
   "cell_type": "code",
   "execution_count": null,
   "metadata": {},
   "outputs": [],
   "source": [
    "import cv2      \n",
    "import numpy as np      \n",
    "      \n",
    "\n",
    "\n",
    "def calcAndDrawHist(image, color):    \n",
    "    hist= cv2.calcHist([image], [0], None, [256], [0.0,255.0])    \n",
    "    minVal, maxVal, minLoc, maxLoc = cv2.minMaxLoc(hist)    \n",
    "    histImg = np.zeros([256,256,3], np.uint8)    \n",
    "    hpt = int(0.9* 256);    \n",
    "        \n",
    "    for h in range(256):    \n",
    "        intensity = int(hist[h]*hpt/maxVal)    \n",
    "        cv2.line(histImg,(h,256), (h,256-intensity), color)    \n",
    "            \n",
    "    return histImg;   \n",
    "\n",
    "if __name__ == '__main__':    \n",
    "    img = cv2.imread(\"../../images/study/input/0.jpg\")      \n",
    "    b,g,r = cv2.split(img)    \n",
    "    \n",
    "    histImgB = calcAndDrawHist(b, [255, 0, 0])    \n",
    "    histImgG = calcAndDrawHist(g, [0, 255, 0])    \n",
    "    histImgR = calcAndDrawHist(r, [0, 0, 255])    \n",
    "        \n",
    "    cv2.imshow(\"histImgB\", histImgB)    \n",
    "    cv2.imshow(\"histImgG\", histImgG)    \n",
    "    cv2.imshow(\"histImgR\", histImgR)    \n",
    "    cv2.imshow(\"Img\", img)    \n",
    "    cv2.waitKey(0)    \n",
    "    cv2.destroyAllWindows()   "
   ]
  },
  {
   "cell_type": "code",
   "execution_count": null,
   "metadata": {},
   "outputs": [],
   "source": []
  }
 ],
 "metadata": {
  "kernelspec": {
   "display_name": "Python 3",
   "language": "python",
   "name": "python3"
  },
  "language_info": {
   "codemirror_mode": {
    "name": "ipython",
    "version": 3
   },
   "file_extension": ".py",
   "mimetype": "text/x-python",
   "name": "python",
   "nbconvert_exporter": "python",
   "pygments_lexer": "ipython3",
   "version": "3.6.7"
  }
 },
 "nbformat": 4,
 "nbformat_minor": 2
}
