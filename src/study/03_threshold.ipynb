{
 "cells": [
  {
   "cell_type": "code",
   "execution_count": 4,
   "metadata": {
    "scrolled": false
   },
   "outputs": [],
   "source": [
    "#-*- coding:utf-8 -*-\n",
    "import cv2      \n",
    "import numpy as np \n",
    "import matplotlib.pyplot as plt  \n",
    "import os\n",
    "\n",
    "def imgThreshold(img, num):\n",
    "\n",
    "    height, width = img.shape\n",
    "\n",
    "    img_seg = img[8:height,40:width-40]\n",
    "\n",
    "    ##图像二值化##\n",
    "    # Gaussian模糊去噪\n",
    "    blur = cv2.GaussianBlur(img_seg,(5,5),0)\n",
    "\n",
    "    # Otsu's threholding without gaussian blur\n",
    "    ret1,th1 = cv2.threshold(img_seg,0,255,cv2.THRESH_BINARY_INV+cv2.THRESH_OTSU)\n",
    "\n",
    "    # Otsu's threholding with gaussian blur\n",
    "    ret2,th2 = cv2.threshold(blur,0,255,cv2.THRESH_BINARY_INV+cv2.THRESH_OTSU)\n",
    "\n",
    "    # gaussian adaptiveThreshold without gaussian blur\n",
    "    th3 = cv2.adaptiveThreshold(img_seg,255,cv2.ADAPTIVE_THRESH_GAUSSIAN_C,\\\n",
    "                cv2.THRESH_BINARY_INV,11,3)\n",
    "\n",
    "    # gaussian adaptiveThreshold with gaussian blur\n",
    "    th4 = cv2.adaptiveThreshold(blur,255,cv2.ADAPTIVE_THRESH_GAUSSIAN_C,\\\n",
    "                cv2.THRESH_BINARY_INV,11,3)\n",
    "\n",
    "    # 垂直方向腐蚀\n",
    "    kernel = np.ones((2,1),np.uint8)\n",
    "    erosion = cv2.erode(th4,kernel,iterations = 3)\n",
    "    \n",
    "   #膨胀\n",
    "    kernel2 = np.ones((2,2),np.uint8)\n",
    "    dilation = cv2.dilate(erosion,kernel2,iterations = 1)\n",
    "    \n",
    "    # plot images\n",
    "    #     plt.subplot(5,1,1),plt.imshow(img_seg,'gray')\n",
    "    #     plt.title(''), plt.xticks([]), plt.yticks([])\n",
    "    #     plt.show()\n",
    "\n",
    "    # saving result\n",
    "    cv2.imwrite(\"../../images/study/threshold/\" + str(num) + \"_1_chop.jpg\", img_seg, [int(cv2.IMWRITE_JPEG_QUALITY), 100])  \n",
    "    cv2.imwrite(\"../../images/study/threshold/\" + str(num) + \"_2_blur.jpg\", blur, [int(cv2.IMWRITE_JPEG_QUALITY), 100])  \n",
    "    cv2.imwrite(\"../../images/study/threshold/\" + str(num) + \"_3_otsu.jpg\", th1, [int(cv2.IMWRITE_JPEG_QUALITY), 100])  \n",
    "    cv2.imwrite(\"../../images/study/threshold/\" + str(num) + \"_4_otsu_blur.jpg\", th2, [int(cv2.IMWRITE_JPEG_QUALITY), 100])  \n",
    "    cv2.imwrite(\"../../images/study/threshold/\" + str(num) + \"_5_gauss.jpg\", th3, [int(cv2.IMWRITE_JPEG_QUALITY), 100])  \n",
    "    cv2.imwrite(\"../../images/study/threshold/\" + str(num) + \"_6_gauss_blur.jpg\", th4, [int(cv2.IMWRITE_JPEG_QUALITY), 100])  \n",
    "    cv2.imwrite(\"../../images/study/threshold/\" + str(num) + \"_7_erosion.jpg\", erosion, [int(cv2.IMWRITE_JPEG_QUALITY), 100]) \n",
    "    cv2.imwrite(\"../../images/study/threshold/\" + str(num) + \"_8_dilation.jpg\", dilation, [int(cv2.IMWRITE_JPEG_QUALITY), 100]) \n",
    "\n",
    "\n",
    "if __name__ == '__main__': \n",
    "    for i in range(0,10):\n",
    "        file =  \"../../images/study/input/\"+str(i)+\".jpg\"\n",
    "        if not os.path.exists(file):\n",
    "            continue\n",
    "        img = cv2.imread(file, 0)  #直接读取成灰度图片\n",
    "        imgThreshold(img, i)\n",
    "    "
   ]
  }
 ],
 "metadata": {
  "kernelspec": {
   "display_name": "Python 3",
   "language": "python",
   "name": "python3"
  },
  "language_info": {
   "codemirror_mode": {
    "name": "ipython",
    "version": 3
   },
   "file_extension": ".py",
   "mimetype": "text/x-python",
   "name": "python",
   "nbconvert_exporter": "python",
   "pygments_lexer": "ipython3",
   "version": "3.6.7"
  }
 },
 "nbformat": 4,
 "nbformat_minor": 2
}
