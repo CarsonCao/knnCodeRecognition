{
 "cells": [
  {
   "cell_type": "code",
   "execution_count": 11,
   "metadata": {},
   "outputs": [
    {
     "name": "stdout",
     "output_type": "stream",
     "text": [
      "E:\\python_space\\segments\\test_pic\\2\n",
      "E:\\python_space\\segments\\test_pic\\3\n",
      "E:\\python_space\\segments\\test_pic\\4\n",
      "E:\\python_space\\segments\\test_pic\\5\n",
      "E:\\python_space\\segments\\test_pic\\6\n",
      "E:\\python_space\\segments\\test_pic\\7\n",
      "E:\\python_space\\segments\\test_pic\\8\n",
      "E:\\python_space\\segments\\test_pic\\a\n",
      "E:\\python_space\\segments\\test_pic\\b\n",
      "E:\\python_space\\segments\\test_pic\\c\n",
      "E:\\python_space\\segments\\test_pic\\d\n",
      "E:\\python_space\\segments\\test_pic\\e\n",
      "E:\\python_space\\segments\\test_pic\\f\n",
      "E:\\python_space\\segments\\test_pic\\g\n",
      "E:\\python_space\\segments\\test_pic\\m\n",
      "E:\\python_space\\segments\\test_pic\\n\n",
      "E:\\python_space\\segments\\test_pic\\p\n",
      "E:\\python_space\\segments\\test_pic\\w\n",
      "E:\\python_space\\segments\\test_pic\\x\n",
      "E:\\python_space\\segments\\test_pic\\y\n"
     ]
    }
   ],
   "source": [
    "#-*- coding:utf-8 -*-\n",
    "##将测试图片转换成文本\n",
    "\n",
    "import os\n",
    "import cv2\n",
    "\n",
    "def img2Txt(imgPath):\n",
    "    img = cv2.imread(imgPath,0)  #直接读取灰度图片\n",
    "    output = imgPath.replace('pic','txt').replace('.jpg','.txt')\n",
    "    \n",
    "    txt = \"\"\n",
    "    rows,cols = img.shape\n",
    "    for i in range(rows):\n",
    "        for j in range(cols):\n",
    "            if img[i,j] > 200:\n",
    "                txt += '1'\n",
    "            else :\n",
    "                txt += '0'\n",
    "        txt += '\\n'\n",
    "        \n",
    "    with open(output,'w') as f:\n",
    "        f.write(txt)\n",
    "    \n",
    "if __name__ == '__main__':\n",
    "    pic_path = 'E:\\\\python_space\\\\segments\\\\test_pic'\n",
    "    dirList =  os.listdir(pic_path)  \n",
    "  \n",
    "    for dirName in dirList:  \n",
    "        dirPath = os.path.join(pic_path, dirName)\n",
    "        print dirPath\n",
    "        if os.path.isdir(dirPath):\n",
    "            imgList = os.listdir(dirPath)\n",
    "            for imgName in imgList:\n",
    "                imgPath = os.path.join(dirPath,imgName)\n",
    "                img2Txt(imgPath)\n",
    "                 "
   ]
  }
 ],
 "metadata": {
  "kernelspec": {
   "display_name": "Python 3",
   "language": "python",
   "name": "python3"
  },
  "language_info": {
   "codemirror_mode": {
    "name": "ipython",
    "version": 3
   },
   "file_extension": ".py",
   "mimetype": "text/x-python",
   "name": "python",
   "nbconvert_exporter": "python",
   "pygments_lexer": "ipython3",
   "version": "3.6.7"
  }
 },
 "nbformat": 4,
 "nbformat_minor": 2
}
