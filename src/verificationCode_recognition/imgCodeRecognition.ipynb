{
 "cells": [
  {
   "cell_type": "code",
   "execution_count": 1,
   "metadata": {},
   "outputs": [
    {
     "name": "stdout",
     "output_type": "stream",
     "text": [
      "获取训练集...\n",
      "预测中...\n",
      "0 ['y', 'y', '4', 'n', 'c']\n",
      "1 ['n', 'm', 'b', 'e', '7']\n",
      "2 ['c', 'g', 'c', 'y', 'x']\n",
      "3 ['n', '4', 'c', 'f', 'y']\n",
      "4 ['8', 'f', 'e', '6', '8']\n",
      "5 ['3', 'c', 'g', 'x', 'x']\n",
      "6 ['g', 'p', '3', 'a', 'n']\n",
      "7 ['f', '5', 'e', 'n', '4']\n",
      "8 ['d', 'a', 'n', 'p', 'y']\n",
      "9 ['d', '6', '2', 'c', 'd']\n"
     ]
    }
   ],
   "source": [
    "import numpy as np\n",
    "# import urllib2\n",
    "import cv2\n",
    "import imgSegment\n",
    "import knn\n",
    "\n",
    "# def url_to_image(url):\n",
    "#     resp = urllib2.urlopen(url)\n",
    "#     image = np.asarray(bytearray(resp.read()), dtype=\"uint8\")\n",
    "#     image = cv2.imdecode(image, cv2.IMREAD_COLOR)\n",
    "#     return image\n",
    "\n",
    "if __name__ == '__main__': \n",
    "\n",
    "    print(\"获取训练集...\")\n",
    "    traininig_sets , traininig_labels= knn.loadDataSet()\n",
    "    print(\"预测中...\")\n",
    "    for i in range(10):\n",
    "        pred_labels = []\n",
    "#         img = url_to_image('https://s.nacao.org.cn/servlet/ValidateCode')\n",
    "#         im_gray = cv2.cvtColor(img, cv2.COLOR_BGR2GRAY)   #转换了灰度化\n",
    "        im_gray = cv2.imread( \"../../images/ori_img/\"+str(i)+\".jpg\", 0)\n",
    "        #字符形态学处理\n",
    "        roi = imgSegment.getROI(im_gray)\n",
    "        #字符分割\n",
    "        vectors = imgSegment.charSegment(roi,5)\n",
    "        for vector in vectors:\n",
    "            pred_tag = knn.kNNClassify(vector,traininig_sets,traininig_labels,k=5)\n",
    "            pred_labels.append(pred_tag)\n",
    "        \n",
    "        #print (\"预测结果为:\")\n",
    "        print (i,pred_labels)\n",
    "#        cv2.imwrite(\"../../images/ori_img/\"+str(i)+\".jpg\", img, [int(cv2.IMWRITE_JPEG_QUALITY), 100])\n",
    "        cv2.namedWindow(\"Image\")\n",
    "        cv2.imshow(\"Image\", im_gray)\n",
    "        cv2.waitKey (5000)\n",
    "        cv2.destroyAllWindows()"
   ]
  },
  {
   "cell_type": "code",
   "execution_count": null,
   "metadata": {},
   "outputs": [],
   "source": []
  }
 ],
 "metadata": {
  "kernelspec": {
   "display_name": "Python 3",
   "language": "python",
   "name": "python3"
  },
  "language_info": {
   "codemirror_mode": {
    "name": "ipython",
    "version": 3
   },
   "file_extension": ".py",
   "mimetype": "text/x-python",
   "name": "python",
   "nbconvert_exporter": "python",
   "pygments_lexer": "ipython3",
   "version": "3.6.7"
  }
 },
 "nbformat": 4,
 "nbformat_minor": 2
}
