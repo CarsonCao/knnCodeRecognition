{
 "cells": [
  {
   "cell_type": "code",
   "execution_count": 7,
   "metadata": {},
   "outputs": [],
   "source": [
    "# -*- coding: UTF-8 -*-  \n",
    "# import os,re,urllib2,imghdr\n",
    " \n",
    "# def getImage(imUrl):  \n",
    "#     content = urllib2.urlopen(imUrl).read()\n",
    "#     imgtype = imghdr.what('', h=content)\n",
    "#     if not imgtype:\n",
    "#         imgtype = 'txt'\n",
    "#     with open('E:\\\\python_space\\\\{}.{}'.format('1', imgtype), 'wb') as f:\n",
    "#         f.write(content)\n",
    "    \n",
    "# if __name__ == '__main__': \n",
    "#     #url已经失效了\n",
    "#     getImage('https://s.nacao.org.cn/servlet/ValidateCode')"
   ]
  }
 ],
 "metadata": {
  "kernelspec": {
   "display_name": "Python 3",
   "language": "python",
   "name": "python3"
  },
  "language_info": {
   "codemirror_mode": {
    "name": "ipython",
    "version": 3
   },
   "file_extension": ".py",
   "mimetype": "text/x-python",
   "name": "python",
   "nbconvert_exporter": "python",
   "pygments_lexer": "ipython3",
   "version": "3.6.7"
  }
 },
 "nbformat": 4,
 "nbformat_minor": 2
}
